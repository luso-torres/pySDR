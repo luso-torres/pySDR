{
 "cells": [
  {
   "cell_type": "code",
   "execution_count": 3,
   "id": "0dee7283-e416-4586-a14d-aa39f7036c1e",
   "metadata": {},
   "outputs": [
    {
     "name": "stdout",
     "output_type": "stream",
     "text": [
      "Best Solution: {'x1': array([ 0.24553803+0.12456685j,  0.04185245+0.07001458j,\n",
      "       -0.53955732-0.02704409j]), 'x2': array([ 0.28913169+0.25779264j, -0.02142295+0.39958501j,\n",
      "       -0.45196575+0.18087627j]), 'x3': array([0.13448742-0.04359325j, 0.32827988+0.06071628j,\n",
      "       0.21086011-0.08893194j]), 'phi': 3.141592653589793, 'psi': 1.5707963267948966, 'objective_value': np.float64(0.9884863354514177)}\n"
     ]
    }
   ],
   "source": [
    "import cvxpy as cp\n",
    "import numpy as np\n",
    "\n",
    "# Given data\n",
    "A_hat = np.random.randn(3, 3) + 1j * np.random.randn(3, 3)  # Example complex matrix\n",
    "K_dB = -40\n",
    "K = 10**(K_dB / 20)  # Convert dB to linear scale\n",
    "phi_vals = [0, np.pi/2, np.pi, 3*np.pi/2]\n",
    "psi_vals = [0, np.pi/2, np.pi, 3*np.pi/2]\n",
    "\n",
    "# Define optimization variables (real and imaginary parts separately)\n",
    "x1_real = cp.Variable(3)\n",
    "x1_imag = cp.Variable(3)\n",
    "x2_real = cp.Variable(3)\n",
    "x2_imag = cp.Variable(3)\n",
    "x3_real = cp.Variable(3)\n",
    "x3_imag = cp.Variable(3)\n",
    "\n",
    "# Convert to complex variables\n",
    "x1 = x1_real + 1j * x1_imag\n",
    "x2 = x2_real + 1j * x2_imag\n",
    "x3 = x3_real + 1j * x3_imag\n",
    "\n",
    "# Basis vectors\n",
    "e1 = np.array([1, 0, 0])\n",
    "e2 = np.array([0, 1, 0])\n",
    "e3 = np.array([0, 0, 1])\n",
    "\n",
    "# Objective function: Minimize squared error\n",
    "objective = cp.Minimize(\n",
    "    cp.norm(A_hat @ x1 - e1, 2)**2 + \n",
    "    cp.norm(A_hat @ x2 - e2, 2)**2 + \n",
    "    cp.norm(A_hat @ x3 - e3, 2)**2\n",
    ")\n",
    "\n",
    "# Solve for all (phi, psi) combinations\n",
    "best_solution = None\n",
    "best_value = np.inf\n",
    "\n",
    "for phi in phi_vals:\n",
    "    for psi in psi_vals:\n",
    "        # Compute complex exponentials\n",
    "        exp_phi = np.exp(1j * phi)\n",
    "        exp_psi = np.exp(1j * psi)\n",
    "\n",
    "        # Constraint: |Â (x1 + x2*exp(jϕ) + x3*exp(jψ))|^2 < K^2\n",
    "        combined_signal = A_hat @ (x1 + x2 * exp_phi + x3 * exp_psi)\n",
    "        \n",
    "        # Reformulate magnitude squared constraint\n",
    "        constraint = [cp.norm(combined_signal, 2) <= K]\n",
    "\n",
    "        # Solve the problem\n",
    "        problem = cp.Problem(objective, constraint)\n",
    "        result = problem.solve(solver=cp.ECOS)  # Use an efficient convex solver\n",
    "\n",
    "        # Store the best solution\n",
    "        if result < best_value:\n",
    "            best_value = result\n",
    "            best_solution = {\n",
    "                \"x1\": x1_real.value + 1j * x1_imag.value,\n",
    "                \"x2\": x2_real.value + 1j * x2_imag.value,\n",
    "                \"x3\": x3_real.value + 1j * x3_imag.value,\n",
    "                \"phi\": phi,\n",
    "                \"psi\": psi,\n",
    "                \"objective_value\": result\n",
    "            }\n",
    "\n",
    "# Display the best result\n",
    "print(\"Best Solution:\", best_solution)\n"
   ]
  },
  {
   "cell_type": "code",
   "execution_count": 4,
   "id": "4f4749c0-c02e-4b71-9e98-9e9540102b6c",
   "metadata": {},
   "outputs": [
    {
     "data": {
      "text/plain": [
       "array([[ 0.37559287-1.4429553j ,  0.93666566+1.43236778j,\n",
       "        -0.86304277-0.29402886j],\n",
       "       [ 1.27902577+0.62081408j, -0.88262498-1.19045967j,\n",
       "        -0.07071552+0.37447337j],\n",
       "       [ 1.83916443-0.27111075j,  0.42913252-0.04697928j,\n",
       "         0.9849475 +0.91812748j]])"
      ]
     },
     "execution_count": 4,
     "metadata": {},
     "output_type": "execute_result"
    }
   ],
   "source": [
    "A_hat"
   ]
  }
 ],
 "metadata": {
  "kernelspec": {
   "display_name": "Python 3 (ipykernel)",
   "language": "python",
   "name": "python3"
  },
  "language_info": {
   "codemirror_mode": {
    "name": "ipython",
    "version": 3
   },
   "file_extension": ".py",
   "mimetype": "text/x-python",
   "name": "python",
   "nbconvert_exporter": "python",
   "pygments_lexer": "ipython3",
   "version": "3.11.9"
  }
 },
 "nbformat": 4,
 "nbformat_minor": 5
}
