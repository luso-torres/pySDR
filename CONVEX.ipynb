{
 "cells": [
  {
   "cell_type": "code",
   "execution_count": 2,
   "id": "0dee7283-e416-4586-a14d-aa39f7036c1e",
   "metadata": {},
   "outputs": [
    {
     "name": "stdout",
     "output_type": "stream",
     "text": [
      "Best Solution: {'x1': array([ 0.10470528-0.12729241j, -0.00092669-0.11098267j,\n",
      "        0.1930547 +0.36176484j]), 'x2': array([ 0.00117694-0.05014317j, -0.00862942+0.13007051j,\n",
      "        0.32300097+0.4946791j ]), 'x3': array([0.0708741 +0.10145787j, 0.24120279+0.00995811j,\n",
      "       0.1345955 -0.12666697j]), 'phi': 3.141592653589793, 'psi': 1.5707963267948966, 'objective_value': np.float64(0.988486333436063)}\n"
     ]
    }
   ],
   "source": [
    "import cvxpy as cp\n",
    "import numpy as np\n",
    "\n",
    "# Given data\n",
    "A_hat = np.random.randn(3, 3) + 1j * np.random.randn(3, 3)  # Example complex matrix\n",
    "K_dB = -40\n",
    "K = 10**(K_dB / 20)  # Convert dB to linear scale\n",
    "phi_vals = [0, np.pi/2, np.pi, 3*np.pi/2]\n",
    "psi_vals = [0, np.pi/2, np.pi, 3*np.pi/2]\n",
    "\n",
    "# Define optimization variables (real and imaginary parts separately)\n",
    "x1_real = cp.Variable(3)\n",
    "x1_imag = cp.Variable(3)\n",
    "x2_real = cp.Variable(3)\n",
    "x2_imag = cp.Variable(3)\n",
    "x3_real = cp.Variable(3)\n",
    "x3_imag = cp.Variable(3)\n",
    "\n",
    "# Convert to complex variables\n",
    "x1 = x1_real + 1j * x1_imag\n",
    "x2 = x2_real + 1j * x2_imag\n",
    "x3 = x3_real + 1j * x3_imag\n",
    "\n",
    "# Basis vectors\n",
    "e1 = np.array([1, 0, 0])\n",
    "e2 = np.array([0, 1, 0])\n",
    "e3 = np.array([0, 0, 1])\n",
    "\n",
    "# Objective function: Minimize squared error\n",
    "objective = cp.Minimize(\n",
    "    cp.norm(A_hat @ x1 - e1, 2)**2 + \n",
    "    cp.norm(A_hat @ x2 - e2, 2)**2 + \n",
    "    cp.norm(A_hat @ x3 - e3, 2)**2\n",
    ")\n",
    "\n",
    "# Solve for all (phi, psi) combinations\n",
    "best_solution = None\n",
    "best_value = np.inf\n",
    "\n",
    "for phi in phi_vals:\n",
    "    for psi in psi_vals:\n",
    "        # Compute complex exponentials\n",
    "        exp_phi = np.exp(1j * phi)\n",
    "        exp_psi = np.exp(1j * psi)\n",
    "\n",
    "        # Constraint: |Â (x1 + x2*exp(jϕ) + x3*exp(jψ))|^2 < K^2\n",
    "        combined_signal = A_hat @ (x1 + x2 * exp_phi + x3 * exp_psi)\n",
    "        \n",
    "        # Reformulate magnitude squared constraint\n",
    "        constraint = [cp.norm(combined_signal, 2) <= K]\n",
    "\n",
    "        # Solve the problem\n",
    "        problem = cp.Problem(objective, constraint)\n",
    "        result = problem.solve(solver=cp.ECOS)  # Use an efficient convex solver\n",
    "\n",
    "        # Store the best solution\n",
    "        if result < best_value:\n",
    "            best_value = result\n",
    "            best_solution = {\n",
    "                \"x1\": x1_real.value + 1j * x1_imag.value,\n",
    "                \"x2\": x2_real.value + 1j * x2_imag.value,\n",
    "                \"x3\": x3_real.value + 1j * x3_imag.value,\n",
    "                \"phi\": phi,\n",
    "                \"psi\": psi,\n",
    "                \"objective_value\": result\n",
    "            }\n",
    "\n",
    "# Display the best result\n",
    "print(\"Best Solution:\", best_solution)\n"
   ]
  }
 ],
 "metadata": {
  "kernelspec": {
   "display_name": "Python 3 (ipykernel)",
   "language": "python",
   "name": "python3"
  },
  "language_info": {
   "codemirror_mode": {
    "name": "ipython",
    "version": 3
   },
   "file_extension": ".py",
   "mimetype": "text/x-python",
   "name": "python",
   "nbconvert_exporter": "python",
   "pygments_lexer": "ipython3",
   "version": "3.11.9"
  }
 },
 "nbformat": 4,
 "nbformat_minor": 5
}
