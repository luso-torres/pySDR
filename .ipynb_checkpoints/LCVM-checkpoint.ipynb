{
 "cells": [
  {
   "cell_type": "code",
   "execution_count": 12,
   "id": "cfb7c837-459f-44fb-93b9-5247dbcacef3",
   "metadata": {},
   "outputs": [],
   "source": [
    "import numpy as np\n",
    "soi1_theta = 15 / 180 * np.pi #convert to radins\n",
    "soi2_theta = 60 / 180 * np.pi\n",
    "\n",
    "#LCVM weights\n",
    "R_int = np.linalg.pinv(np.cov(X)) #8x8\n",
    "s1 = np.exp(-2j * np.pi * d * np.arange(Nr) * np.sin(soi1_theta)).reshape(-1,1)\n",
    "s2 = np.exp(-2j * np.pi * d * np.arange(Nr) * np.sin(soi2_theta)).reshape(-1,1)\n",
    "C = np.concatenate((s1,s2), axis = 1) #8x2\n",
    "f = np.ones(2).reshape(-1,1) #2x1\n",
    "\n",
    "#LCMV equation\n",
    "#    8x8   8x2               2x8             8x8   8x2  2x1 \n",
    "w = R_inv @ C @ np.linalg.pinv(C.conj().T @ R_inv @ C) @ f # output is 8x1"
   ]
  },
  {
   "cell_type": "code",
   "execution_count": 5,
   "id": "be217a82-48ef-4c16-a2c3-48d88b1516ea",
   "metadata": {},
   "outputs": [
    {
     "name": "stdout",
     "output_type": "stream",
     "text": [
      "(3, 1)\n",
      "(1, 10000)\n"
     ]
    }
   ],
   "source": [
    "##Received Signal\n",
    "import numpy as np\n",
    "import matplotlib.pyplot as plt\n",
    "\n",
    "sample_rate = 1e6\n",
    "N = 10000 # number of samples to simulate\n",
    "\n",
    "#Create a tone to act as the transmitter signal\n",
    "t = np.arange(N)/sample_rate #time vector\n",
    "f_tone = 0.02e6\n",
    "tx = np.exp(2j*np.pi*f_tone*t)\n",
    "\n",
    "d = 0.5 #half wavelength spacing\n",
    "Nr = 3\n",
    "theta_degrees  = 20 # direction of arrival\n",
    "theta = theta_degrees / 180 *np.pi #radians conversion\n",
    "s = np.exp(-2j*np.pi * d * np.arange(Nr)*np.sin(theta)) # Steering vector\n",
    "\n",
    "#Making s a column vector\n",
    "s = s.reshape(-1,1)\n",
    "print(s.shape) #3x1\n",
    "\n",
    "#Making TX a row vector\n",
    "tx = tx.reshape(1,-1)\n",
    "print(tx.shape)\n",
    "\n",
    "#Simulate the received signal X through a matrix multiply\n",
    "X = s@ tx"
   ]
  },
  {
   "cell_type": "code",
   "execution_count": 7,
   "id": "d6ea7c00-520d-4f39-8a1d-22f5cca07165",
   "metadata": {},
   "outputs": [],
   "source": [
    "R = (X @ X.conj().T)/X.shape[1]"
   ]
  },
  {
   "cell_type": "code",
   "execution_count": 14,
   "id": "2a25f2bf-edf5-4341-b8c9-ac10b371189f",
   "metadata": {},
   "outputs": [],
   "source": [
    "R_inv = np.linalg.pinv(R)"
   ]
  },
  {
   "cell_type": "code",
   "execution_count": 15,
   "id": "01d7c238-09ae-4f8b-96e0-cadd3086c0d0",
   "metadata": {},
   "outputs": [
    {
     "data": {
      "text/plain": [
       "array([[-1.0137021 -1.67016822j],\n",
       "       [ 1.44159707-2.66213711j],\n",
       "       [ 2.49918609+0.77364519j]])"
      ]
     },
     "execution_count": 15,
     "metadata": {},
     "output_type": "execute_result"
    }
   ],
   "source": [
    "w"
   ]
  },
  {
   "cell_type": "code",
   "execution_count": 16,
   "id": "618be237-55ca-42e0-9cd5-bb816b28e169",
   "metadata": {},
   "outputs": [
    {
     "ename": "NameError",
     "evalue": "name 'w_mvdr' is not defined",
     "output_type": "error",
     "traceback": [
      "\u001b[1;31m---------------------------------------------------------------------------\u001b[0m",
      "\u001b[1;31mNameError\u001b[0m                                 Traceback (most recent call last)",
      "Cell \u001b[1;32mIn[16], line 8\u001b[0m\n\u001b[0;32m      6\u001b[0m results \u001b[38;5;241m=\u001b[39m []\n\u001b[0;32m      7\u001b[0m \u001b[38;5;28;01mfor\u001b[39;00m theta_i \u001b[38;5;129;01min\u001b[39;00m theta_scan:\n\u001b[1;32m----> 8\u001b[0m     w \u001b[38;5;241m=\u001b[39m \u001b[43mw_mvdr\u001b[49m(theta_i,r) \u001b[38;5;66;03m#3x1\u001b[39;00m\n\u001b[0;32m      9\u001b[0m     X_weighted \u001b[38;5;241m=\u001b[39m w\u001b[38;5;241m.\u001b[39mconj()\u001b[38;5;241m.\u001b[39mT \u001b[38;5;129m@X\u001b[39m \u001b[38;5;66;03m#apply weights\u001b[39;00m\n\u001b[0;32m     10\u001b[0m     power_dB \u001b[38;5;241m=\u001b[39m \u001b[38;5;241m10\u001b[39m\u001b[38;5;241m*\u001b[39mnp\u001b[38;5;241m.\u001b[39mlog10(np\u001b[38;5;241m.\u001b[39mvar(X_weighted)) \u001b[38;5;66;03m#power in signal, in dB\u001b[39;00m\n",
      "\u001b[1;31mNameError\u001b[0m: name 'w_mvdr' is not defined"
     ]
    }
   ],
   "source": [
    "#utilizing in the context of DOA\n",
    "#1000 different thetas between -180 and 180 degrees\n",
    "r = X #received signal\n",
    "theta_scan = np.linspace(-1*np.pi, np.pi, 1000)\n",
    "\n",
    "results = []\n",
    "for theta_i in theta_scan:\n",
    "    w = w #3x1\n",
    "    X_weighted = w.conj().T @X #apply weights\n",
    "    power_dB = 10*np.log10(np.var(X_weighted)) #power in signal, in dB\n",
    "    results.append(power_dB)\n",
    "results -= np.max(results) #normalize"
   ]
  },
  {
   "cell_type": "code",
   "execution_count": null,
   "id": "1e323a23-81c1-4cb8-8c67-6bbb1256f79d",
   "metadata": {},
   "outputs": [],
   "source": [
    "fig, ax = plt.subplots(subplot_kw={'projection': 'polar'})\n",
    "ax.plot(theta_scan, results) # MAKE SURE TO USE RADIAN FOR POLAR\n",
    "ax.set_theta_zero_location('N') # make 0 degrees point up\n",
    "ax.set_theta_direction(-1) # increase clockwise\n",
    "ax.set_rlabel_position(55)  # Move grid labels away from other labels\n",
    "ax.set_thetamin(-90) # only show top half\n",
    "ax.set_thetamax(90)\n",
    "#ax.set_theta_direction(-1) # increase clockwise\n",
    "ax.set_rlabel_position(55)  # Move grid labels away from other labels\n",
    "plt.show()"
   ]
  }
 ],
 "metadata": {
  "kernelspec": {
   "display_name": "Python 3 (ipykernel)",
   "language": "python",
   "name": "python3"
  },
  "language_info": {
   "codemirror_mode": {
    "name": "ipython",
    "version": 3
   },
   "file_extension": ".py",
   "mimetype": "text/x-python",
   "name": "python",
   "nbconvert_exporter": "python",
   "pygments_lexer": "ipython3",
   "version": "3.11.9"
  }
 },
 "nbformat": 4,
 "nbformat_minor": 5
}
