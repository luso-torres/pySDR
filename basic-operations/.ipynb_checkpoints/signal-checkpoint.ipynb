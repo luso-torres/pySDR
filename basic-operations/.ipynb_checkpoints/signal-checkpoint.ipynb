{
 "cells": [
  {
   "cell_type": "code",
   "execution_count": null,
   "id": "5e9df600-5d8e-49a9-87e0-7daf81f00cea",
   "metadata": {},
   "outputs": [],
   "source": [
    "#Generated signal:\n",
    "def generateSignal() -> np.ndarray:\n",
    "    Nr = 8 #8 elements\n",
    "    theta1 = 20 / 180 * np.pi # convert to radians\n",
    "    theta2 = 25 / 180 * np.pi\n",
    "    theta3 = -40 / 180 * np.pi\n",
    "    s1 = np.exp(-2j * np.pi * d * np.arange(Nr) * np.sin(theta1)).reshape(-1,1) #8x1\n",
    "    s2 = np.exp(-2j * np.pi * d * np.arange(Nr) * np.sin(theta2)).reshape(-1,1)\n",
    "    s3 = np.exp(-2j * np.pi * d * np.arange(Nr) * np.sin(theta3)).reshape(-1,1)\n",
    "\n",
    "#frequencies\n",
    "    tone1 = np.exp(2j*np.pi*0.01e6*t).reshape(1,-1)\n",
    "    tone2 = np.exp(2j*np.pi*0.02e6*t).reshape(1,-1)\n",
    "    tone3 = np.exp(2j*np.pi*0.03e6*t).reshape(1,-1)\n",
    "    X = s1 @ tone1 + s2 @ tone2 + 0.1* s3 @ tone3 #note 1/10th\n",
    "    n = np.random.randn(Nr,N) + 1j*np.random.randn(Nr,N)\n",
    "    X = X+ 0.05*n #8xN\n",
    "return x"
   ]
  },
  {
   "cell_type": "code",
   "execution_count": null,
   "id": "c8378e80-5d5a-488e-9a87-01082934c213",
   "metadata": {},
   "outputs": [],
   "source": []
  }
 ],
 "metadata": {
  "kernelspec": {
   "display_name": "Python 3 (ipykernel)",
   "language": "python",
   "name": "python3"
  },
  "language_info": {
   "codemirror_mode": {
    "name": "ipython",
    "version": 3
   },
   "file_extension": ".py",
   "mimetype": "text/x-python",
   "name": "python",
   "nbconvert_exporter": "python",
   "pygments_lexer": "ipython3",
   "version": "3.11.9"
  }
 },
 "nbformat": 4,
 "nbformat_minor": 5
}
